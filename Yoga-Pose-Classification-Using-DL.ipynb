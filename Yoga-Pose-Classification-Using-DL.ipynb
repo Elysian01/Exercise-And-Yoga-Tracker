{
 "cells": [
  {
   "cell_type": "code",
   "execution_count": 1,
   "metadata": {},
   "outputs": [],
   "source": [
    "import os\n",
    "import math\n",
    "from tensorflow import keras\n",
    "import numpy as np\n",
    "import pandas as pd \n",
    "import tensorflow as tf\n",
    "import matplotlib.pyplot as plt\n",
    "from livelossplot import PlotLossesKerasTF\n",
    "from tensorflow.keras.preprocessing.image import ImageDataGenerator\n",
    "from tensorflow.keras.models import Sequential \n",
    "from tensorflow.keras.applications import VGG16, Xception\n",
    "from tensorflow.keras.layers import Dense, Conv2D, Flatten, BatchNormalization, Dropout\n",
    "from tensorflow.keras.layers import MaxPooling2D, AveragePooling2D, Activation\n",
    "\n",
    "from tensorflow.keras import optimizers\n",
    "from tensorflow.keras.utils import to_categorical\n",
    "from tensorflow.keras.models import Model\n",
    "\n",
    "from PIL import Image\n",
    "from PIL import ImageFile\n",
    "\n",
    "ImageFile.LOAD_TRUNCATED_IMAGES = True\n",
    "%matplotlib inline\n",
    "%config Completer.use_jedi = False"
   ]
  },
  {
   "cell_type": "code",
   "execution_count": 2,
   "metadata": {},
   "outputs": [
    {
     "name": "stdout",
     "output_type": "stream",
     "text": [
      "Num GPUs Available:  0\n"
     ]
    }
   ],
   "source": [
    "# GPU Configurations\n",
    "\n",
    "print(\"Num GPUs Available: \", len(tf.config.experimental.list_physical_devices('GPU')))\n",
    "gpus = tf.config.experimental.list_physical_devices('GPU')\n",
    "if gpus:\n",
    "  try:\n",
    "    # Currently, memory growth needs to be the same across GPUs\n",
    "    for gpu in gpus:\n",
    "      tf.config.experimental.set_memory_growth(gpu, True)\n",
    "    logical_gpus = tf.config.experimental.list_logical_devices('GPU')\n",
    "    print(len(gpus), \"Physical GPUs,\", len(logical_gpus), \"Logical GPUs\")\n",
    "  except RuntimeError as e:\n",
    "    # Memory growth must be set before GPUs have been initialized\n",
    "    print(e)"
   ]
  },
  {
   "cell_type": "code",
   "execution_count": 3,
   "metadata": {},
   "outputs": [],
   "source": [
    "basedir = \"./dataset/\" # here below the train and validation data"
   ]
  },
  {
   "cell_type": "code",
   "execution_count": 4,
   "metadata": {},
   "outputs": [],
   "source": [
    "def removeCorruptedImages(path):\n",
    "    for filename in os.listdir(path):\n",
    "        try:\n",
    "            img = Image.open(os.path.join(path,filename))\n",
    "            img.verify() \n",
    "        except (IOError, SyntaxError) as e:\n",
    "            print('Bad file:', filename)\n",
    "            os.remove(os.path.join(path,filename))"
   ]
  },
  {
   "cell_type": "code",
   "execution_count": 5,
   "metadata": {},
   "outputs": [],
   "source": [
    "# Yoga Set 1\n",
    "yoga_train_path = os.path.join(\"yoga_set1\",\"train\") # root for training\n",
    "yoga_test_path = os.path.join(\"yoga_set1\",\"test\") # root for testing\n",
    "\n",
    "# Yoga Set 2\n",
    "# yoga_train_path = os.path.join(\"yoga_set2\",\"train\") # root for training\n",
    "# yoga_test_path = os.path.join(\"yoga_set2\",\"test\") # root for testing\n",
    "\n",
    "traindir = os.path.join(basedir,yoga_train_path) \n",
    "validdir = os.path.join(basedir,yoga_test_path) "
   ]
  },
  {
   "cell_type": "code",
   "execution_count": 6,
   "metadata": {},
   "outputs": [],
   "source": [
    "\n",
    "# Yoga Set 1\n",
    "removeCorruptedImages(os.path.join(traindir,'tree'))\n",
    "removeCorruptedImages(os.path.join(traindir,'downdog'))\n",
    "removeCorruptedImages(os.path.join(traindir,'warrior1'))\n",
    "\n",
    "removeCorruptedImages(os.path.join(validdir,'tree'))\n",
    "removeCorruptedImages(os.path.join(validdir,'downdog'))\n",
    "removeCorruptedImages(os.path.join(validdir,'warrior1'))\n",
    "\n",
    "\n",
    "# Yoga Set 2\n",
    "# removeCorruptedImages(os.path.join(traindir,'goddess'))\n",
    "# removeCorruptedImages(os.path.join(traindir,'mountain'))\n",
    "# removeCorruptedImages(os.path.join(traindir,'warrior2'))\n",
    "\n",
    "# removeCorruptedImages(os.path.join(validdir,'goddess'))\n",
    "# removeCorruptedImages(os.path.join(validdir,'mountain'))\n",
    "# removeCorruptedImages(os.path.join(validdir,'warrior2'))\n"
   ]
  },
  {
   "cell_type": "markdown",
   "metadata": {},
   "source": [
    "## Image Data Generator"
   ]
  },
  {
   "cell_type": "code",
   "execution_count": 7,
   "metadata": {},
   "outputs": [],
   "source": [
    "train_datagen=ImageDataGenerator(rescale=1./255,shear_range=0.2,zoom_range=0.2,horizontal_flip=True)\n",
    "test_datagen=ImageDataGenerator(rescale=1./255)"
   ]
  },
  {
   "cell_type": "code",
   "execution_count": 8,
   "metadata": {},
   "outputs": [
    {
     "name": "stdout",
     "output_type": "stream",
     "text": [
      "For Training: \n",
      "Found 1184 images belonging to 3 classes.\n",
      "\n",
      "For Testing: \n",
      "Found 170 images belonging to 3 classes.\n"
     ]
    }
   ],
   "source": [
    "batch_size=8\n",
    "print(\"For Training: \")\n",
    "train_datagen = train_datagen.flow_from_directory(\n",
    "                  directory = traindir,\n",
    "                  target_size=(300,300),\n",
    "                  batch_size=batch_size,\n",
    "                  shuffle=True,\n",
    "                  color_mode=\"rgb\",\n",
    "                  class_mode='categorical')\n",
    "\n",
    "print(\"\\nFor Testing: \")\n",
    "val_datagen = test_datagen.flow_from_directory(\n",
    "                directory = validdir,\n",
    "                target_size=(300,300),\n",
    "                batch_size=batch_size,\n",
    "                shuffle=False,\n",
    "                color_mode=\"rgb\",\n",
    "                class_mode='categorical')"
   ]
  },
  {
   "cell_type": "code",
   "execution_count": 9,
   "metadata": {},
   "outputs": [],
   "source": [
    "# Loading Pretrained Model\n",
    "\n",
    "# base_model_path2 = \"./pretrained_models/xception_weights_tf_dim_ordering_tf_kernels_notop.h5\"\n",
    "# base_model =  Xception(weights=base_model_path1, include_top=False, input_shape=(300, 300, 3))\n",
    "\n",
    "base_model_path1 = \"./pretrained_models/vgg16_weights_tf_dim_ordering_tf_kernels_notop.h5\"\n",
    "base_model = VGG16(weights=base_model_path1, include_top=False, input_shape=(300, 300, 3))"
   ]
  },
  {
   "cell_type": "code",
   "execution_count": 10,
   "metadata": {
    "scrolled": true
   },
   "outputs": [
    {
     "name": "stdout",
     "output_type": "stream",
     "text": [
      "Model: \"model\"\n",
      "_________________________________________________________________\n",
      "Layer (type)                 Output Shape              Param #   \n",
      "=================================================================\n",
      "input_1 (InputLayer)         [(None, 300, 300, 3)]     0         \n",
      "_________________________________________________________________\n",
      "block1_conv1 (Conv2D)        (None, 300, 300, 64)      1792      \n",
      "_________________________________________________________________\n",
      "block1_conv2 (Conv2D)        (None, 300, 300, 64)      36928     \n",
      "_________________________________________________________________\n",
      "block1_pool (MaxPooling2D)   (None, 150, 150, 64)      0         \n",
      "_________________________________________________________________\n",
      "block2_conv1 (Conv2D)        (None, 150, 150, 128)     73856     \n",
      "_________________________________________________________________\n",
      "block2_conv2 (Conv2D)        (None, 150, 150, 128)     147584    \n",
      "_________________________________________________________________\n",
      "block2_pool (MaxPooling2D)   (None, 75, 75, 128)       0         \n",
      "_________________________________________________________________\n",
      "block3_conv1 (Conv2D)        (None, 75, 75, 256)       295168    \n",
      "_________________________________________________________________\n",
      "block3_conv2 (Conv2D)        (None, 75, 75, 256)       590080    \n",
      "_________________________________________________________________\n",
      "block3_conv3 (Conv2D)        (None, 75, 75, 256)       590080    \n",
      "_________________________________________________________________\n",
      "block3_pool (MaxPooling2D)   (None, 37, 37, 256)       0         \n",
      "_________________________________________________________________\n",
      "block4_conv1 (Conv2D)        (None, 37, 37, 512)       1180160   \n",
      "_________________________________________________________________\n",
      "block4_conv2 (Conv2D)        (None, 37, 37, 512)       2359808   \n",
      "_________________________________________________________________\n",
      "block4_conv3 (Conv2D)        (None, 37, 37, 512)       2359808   \n",
      "_________________________________________________________________\n",
      "block4_pool (MaxPooling2D)   (None, 18, 18, 512)       0         \n",
      "_________________________________________________________________\n",
      "block5_conv1 (Conv2D)        (None, 18, 18, 512)       2359808   \n",
      "_________________________________________________________________\n",
      "block5_conv2 (Conv2D)        (None, 18, 18, 512)       2359808   \n",
      "_________________________________________________________________\n",
      "block5_conv3 (Conv2D)        (None, 18, 18, 512)       2359808   \n",
      "_________________________________________________________________\n",
      "block5_pool (MaxPooling2D)   (None, 9, 9, 512)         0         \n",
      "_________________________________________________________________\n",
      "sequential (Sequential)      (None, 3)                 5308931   \n",
      "=================================================================\n",
      "Total params: 20,023,619\n",
      "Trainable params: 20,023,619\n",
      "Non-trainable params: 0\n",
      "_________________________________________________________________\n"
     ]
    }
   ],
   "source": [
    "output_neurons = 3\n",
    "\n",
    "model = Sequential()\n",
    "model.add(Flatten(input_shape=base_model.output_shape[1:]))\n",
    "model.add(Dense(128))\n",
    "model.add(Activation('relu'))\n",
    "model.add(Dropout(0.2))\n",
    "model.add(Dense(output_neurons))\n",
    "model.add(Activation('softmax'))\n",
    "\n",
    "\n",
    "model = Model(inputs=base_model.input, outputs=model(base_model.output))\n",
    "\n",
    "\n",
    "optimizers = tf.keras.optimizers.SGD(learning_rate=0.0001, momentum=0.9, nesterov=True)\n",
    "losss = tf.keras.losses.CategoricalCrossentropy(label_smoothing=0.2, from_logits=True)\n",
    "model.compile(loss=losss,\n",
    "             optimizer=optimizers,\n",
    "              metrics=['accuracy'])\n",
    "\n",
    "model.summary()"
   ]
  },
  {
   "cell_type": "code",
   "execution_count": 11,
   "metadata": {},
   "outputs": [],
   "source": [
    "# Callbacks\n",
    "\n",
    "class ConvolutionCallback(tf.keras.callbacks.Callback):\n",
    "        def on_epoch_end(self,epoch,logs={}):\n",
    "            if(logs.get('accuracy')>=0.97 and logs.get('val_accuracy') >=0.92):\n",
    "                print(\"Reached greater than 97.0% accuracy so cancelling training!\")\n",
    "                self.model.stop_training = True\n",
    "                \n",
    "reduce_lr = keras.callbacks.ReduceLROnPlateau(monitor='val_loss', factor=0.1,\n",
    "                              patience=2, min_lr=0.001, mode='auto')\n",
    "checkpoint = keras.callbacks.ModelCheckpoint(\"./checkpoints_models/pose_classification_model_weights2.h5\", monitor='val_accuracy',\n",
    "                             save_weights_only=True, mode='max', verbose=1)\n",
    "\n",
    "convolutionCallback = ConvolutionCallback()\n",
    "callbacks = [PlotLossesKerasTF(), checkpoint,reduce_lr, convolutionCallback]"
   ]
  },
  {
   "cell_type": "markdown",
   "metadata": {},
   "source": [
    "## Training"
   ]
  },
  {
   "cell_type": "code",
   "execution_count": null,
   "metadata": {},
   "outputs": [
    {
     "data": {
      "image/png": "[encoded data removed]",
      "text/plain": [
       "<Figure size 864x576 with 2 Axes>"
      ]
     },
     "metadata": {
      "needs_background": "light"
     },
     "output_type": "display_data"
    },
    {
     "name": "stdout",
     "output_type": "stream",
     "text": [
      "accuracy\n",
      "\ttraining         \t (min:    0.757, max:    0.934, cur:    0.934)\n",
      "\tvalidation       \t (min:    0.988, max:    0.988, cur:    0.988)\n",
      "Loss\n",
      "\ttraining         \t (min:    0.624, max:    0.812, cur:    0.624)\n",
      "\tvalidation       \t (min:    0.536, max:    0.553, cur:    0.536)\n",
      "\n",
      "Epoch 00002: saving model to ./checkpoints_models\\pose_classification_model_weights2.h5\n",
      "Epoch 3/4\n",
      " 55/148 [==========>...................] - ETA: 14:38 - loss: 0.5879 - accuracy: 0.9575"
     ]
    }
   ],
   "source": [
    "# epoch_for_model2 = 5\n",
    "BATCH_SIZE = 16\n",
    "\n",
    "history = model.fit(train_datagen,\n",
    "                    epochs=4,\n",
    "                    validation_data = val_datagen,\n",
    "                    callbacks=callbacks\n",
    "                    )"
   ]
  },
  {
   "cell_type": "code",
   "execution_count": null,
   "metadata": {},
   "outputs": [],
   "source": [
    "plt.figure(0)\n",
    "plt.plot(history.history['loss'],'g', label=\"Loss\")\n",
    "plt.plot(history.history['val_loss'],'b',label=\"Validation Loss\")\n",
    "plt.plot(history.history['accuracy'],'r', label=\"Accuracy\")\n",
    "plt.plot(history.history['val_accuracy'],'black', label=\"Validation Accuracy\")\n",
    "plt.legend()\n",
    "plt.show()"
   ]
  },
  {
   "cell_type": "markdown",
   "metadata": {},
   "source": [
    "## Saving Model"
   ]
  },
  {
   "cell_type": "code",
   "execution_count": null,
   "metadata": {},
   "outputs": [],
   "source": [
    "yoga_set1_model_save_path = \"./final_models/H5_Models/Yoga_Set1.h5\"\n",
    "# yoga_set2_model_save_path = \"./final_models/H5_Models/Yoga_Set2.h5\"\n",
    "model.save(yoga_set1_model_save_path)"
   ]
  },
  {
   "cell_type": "code",
   "execution_count": null,
   "metadata": {
    "scrolled": true
   },
   "outputs": [],
   "source": [
    "loaded_model = tf.keras.models.load_model('./final_models/H5_Models/Yoga_Set1.h5')\n",
    "loaded_model.summary()"
   ]
  },
  {
   "cell_type": "code",
   "execution_count": null,
   "metadata": {},
   "outputs": [],
   "source": [
    "## TFLite Import\n",
    "\n",
    "tf_lite_converter = tf.lite.TFLiteConverter.from_keras_model(model)\n",
    "tflite_model = tf_lite_converter.convert()\n",
    "\n",
    "yoga_final_model_name = \"Yoga_Set1_TFLite_Model.tflite\"\n",
    "# yoga_final_model_name = \"Yoga_Set2_TFLite_Model.tflite\"\n",
    "\n",
    "tflite_model_name = yoga_final_model_name\n",
    "open(tflite_model_name,\"wb\").write(tflite_model)\n",
    "\n",
    "def get_file_size(file_path):\n",
    "    size = os.path.getsize(file_path)\n",
    "    return size\n",
    "\n",
    "def convert_bytes(size, unit=None):\n",
    "    if unit == \"KB\":\n",
    "        return print('File size: ' + str(round(size / 1024, 3)) + ' Kilobytes')\n",
    "    elif unit == \"MB\":\n",
    "        return print('File size: ' + str(round(size / (1024 * 1024), 3)) + ' Megabytes')\n",
    "    else:\n",
    "        return print('File size: ' + str(size) + ' bytes')\n",
    "    \n",
    "convert_bytes(get_file_size(tflite_model_name),\"MB\")"
   ]
  },
  {
   "cell_type": "markdown",
   "metadata": {},
   "source": [
    "## Testing "
   ]
  },
  {
   "cell_type": "code",
   "execution_count": null,
   "metadata": {},
   "outputs": [],
   "source": [
    "model.evaluate(val_datagen)"
   ]
  },
  {
   "cell_type": "code",
   "execution_count": null,
   "metadata": {},
   "outputs": [],
   "source": [
    "yoga_labels = {0:\"downdog\",1:\"tree\",2:\"warrior1\"}\n",
    "# yoga_labels = {0:\"goddess\",1:\"mountain\",2:\"warrior2\"}"
   ]
  },
  {
   "cell_type": "code",
   "execution_count": null,
   "metadata": {},
   "outputs": [],
   "source": [
    "import numpy as np\n",
    "from keras.preprocessing import image\n",
    "import matplotlib.image as mpimg\n",
    "\n",
    "# predicting images\n",
    "path = input(\"Enter Image Name (from 1-15) : \")\n",
    "path = \"./dataset/final_test/yoga_set1/\" + path + \".jpg\"\n",
    "\n",
    "img = image.load_img(path, target_size=(300, 300))\n",
    "x = image.img_to_array(img)\n",
    "# print(x/255)\n",
    "x = np.expand_dims(x, axis=0)\n",
    "\n",
    "images = np.vstack([x])\n",
    "classes = loaded_model.predict(images, batch_size=10)\n",
    "\n",
    "plt.axis(\"Off\")\n",
    "img = mpimg.imread(path)\n",
    "plt.imshow(img)\n",
    "plt.show()\n",
    "\n",
    "print(\"Class Predictions: \",classes)\n",
    "pred_index = np.argmax(classes[0])\n",
    "print(\"\\nPrediction is: \", yoga_labels[pred_index])"
   ]
  },
  {
   "cell_type": "code",
   "execution_count": null,
   "metadata": {},
   "outputs": [],
   "source": []
  },
  {
   "cell_type": "code",
   "execution_count": null,
   "metadata": {},
   "outputs": [],
   "source": []
  }
 ],
 "metadata": {
  "kernelspec": {
   "display_name": "tensor",
   "language": "python",
   "name": "tensor"
  },
  "language_info": {
   "codemirror_mode": {
    "name": "ipython",
    "version": 3
   },
   "file_extension": ".py",
   "mimetype": "text/x-python",
   "name": "python",
   "nbconvert_exporter": "python",
   "pygments_lexer": "ipython3",
   "version": "3.6.12"
  }
 },
 "nbformat": 4,
 "nbformat_minor": 4
}
